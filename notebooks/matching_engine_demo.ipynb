{
 "cells": [
  {
   "cell_type": "markdown",
   "id": "7139fb6c",
   "metadata": {},
   "source": [
    "# Cryptocurrency Matching Engine Demo\n",
    "\n",
    "This notebook demonstrates the functionality of our high-performance cryptocurrency matching engine with interactive visualizations.\n",
    "\n",
    "## Setup and Imports"
   ]
  },
  {
   "cell_type": "code",
   "execution_count": null,
   "id": "f06ea4d2",
   "metadata": {},
   "outputs": [],
   "source": [
    "import sys\n",
    "sys.path.append('..')\n",
    "\n",
    "from src.engine.order import Order, OrderType, OrderSide, OrderStatus\n",
    "from src.engine.orderbook import OrderBook\n",
    "from src.visualization.visualizer import create_orderbook_visualization, create_trade_flow_diagram\n",
    "\n",
    "import plotly.graph_objects as go\n",
    "from datetime import datetime\n",
    "import numpy as np"
   ]
  },
  {
   "cell_type": "markdown",
   "id": "7284f0fa",
   "metadata": {},
   "source": [
    "## Initialize Order Book\n",
    "\n",
    "Let's create an order book for BTC-USDT trading pair and add some initial orders."
   ]
  },
  {
   "cell_type": "code",
   "execution_count": null,
   "id": "de6bb443",
   "metadata": {},
   "outputs": [],
   "source": [
    "# Create order book\n",
    "order_book = OrderBook(\"BTC-USDT\")\n",
    "\n",
    "# Add some initial limit orders\n",
    "initial_orders = [\n",
    "    # Bids (buy orders)\n",
    "    Order(order_id=\"bid1\", symbol=\"BTC-USDT\", order_type=OrderType.LIMIT, side=OrderSide.BUY,\n",
    "          quantity=1.0, price=25000.0, remaining_quantity=1.0),\n",
    "    Order(order_id=\"bid2\", symbol=\"BTC-USDT\", order_type=OrderType.LIMIT, side=OrderSide.BUY,\n",
    "          quantity=2.0, price=24900.0, remaining_quantity=2.0),\n",
    "    \n",
    "    # Asks (sell orders)\n",
    "    Order(order_id=\"ask1\", symbol=\"BTC-USDT\", order_type=OrderType.LIMIT, side=OrderSide.SELL,\n",
    "          quantity=1.5, price=25100.0, remaining_quantity=1.5),\n",
    "    Order(order_id=\"ask2\", symbol=\"BTC-USDT\", order_type=OrderType.LIMIT, side=OrderSide.SELL,\n",
    "          quantity=1.0, price=25200.0, remaining_quantity=1.0)\n",
    "]\n",
    "\n",
    "# Add orders to the book\n",
    "trades = []\n",
    "for order in initial_orders:\n",
    "    trades.extend(order_book.add_order(order))\n",
    "\n",
    "# Visualize initial order book\n",
    "snapshot = order_book.get_order_book_snapshot()\n",
    "fig = create_orderbook_visualization(\n",
    "    bids=snapshot['bids'],\n",
    "    asks=snapshot['asks'],\n",
    "    title=\"Initial Order Book State\"\n",
    ")\n",
    "fig.show()"
   ]
  },
  {
   "cell_type": "markdown",
   "id": "460dc76d",
   "metadata": {},
   "source": [
    "## Execute Market Order\n",
    "\n",
    "Now let's submit a market buy order and see how it affects the order book."
   ]
  },
  {
   "cell_type": "code",
   "execution_count": null,
   "id": "860a4974",
   "metadata": {},
   "outputs": [],
   "source": [
    "# Create and execute market order\n",
    "market_order = Order(\n",
    "    order_id=\"market1\",\n",
    "    symbol=\"BTC-USDT\",\n",
    "    order_type=OrderType.MARKET,\n",
    "    side=OrderSide.BUY,\n",
    "    quantity=1.0,\n",
    "    remaining_quantity=1.0\n",
    ")\n",
    "\n",
    "# Execute the order and collect trades\n",
    "new_trades = order_book.add_order(market_order)\n",
    "trades.extend(new_trades)\n",
    "\n",
    "# Visualize updated order book\n",
    "snapshot = order_book.get_order_book_snapshot()\n",
    "fig = create_orderbook_visualization(\n",
    "    bids=snapshot['bids'],\n",
    "    asks=snapshot['asks'],\n",
    "    trades=new_trades,\n",
    "    title=\"Order Book After Market Order\"\n",
    ")\n",
    "fig.show()"
   ]
  },
  {
   "cell_type": "markdown",
   "id": "f8c91919",
   "metadata": {},
   "source": [
    "## Trade Flow Visualization\n",
    "\n",
    "Let's visualize the flow of trades over time."
   ]
  },
  {
   "cell_type": "code",
   "execution_count": null,
   "id": "a851f850",
   "metadata": {},
   "outputs": [],
   "source": [
    "# Create trade flow diagram\n",
    "trade_fig = create_trade_flow_diagram(trades)\n",
    "trade_fig.show()"
   ]
  }
 ],
 "metadata": {
  "language_info": {
   "name": "python"
  }
 },
 "nbformat": 4,
 "nbformat_minor": 5
}
